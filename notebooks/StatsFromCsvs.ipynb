{
 "metadata": {
  "name": "",
  "signature": "sha256:ebd78d44ae8d1ac03a0319782886143b544cb01eb18be2e60c2406d36d017dc0"
 },
 "nbformat": 3,
 "nbformat_minor": 0,
 "worksheets": [
  {
   "cells": [
    {
     "cell_type": "code",
     "collapsed": false,
     "input": [
      "import unicodecsv\n",
      "from glob import glob\n",
      "import re\n",
      "try:\n",
      "    from tqdm import tqdm\n",
      "except ImportError:\n",
      "    tqdm = lambda x: x\n",
      "    \n",
      "import numpy as np"
     ],
     "language": "python",
     "metadata": {},
     "outputs": [],
     "prompt_number": 9
    },
    {
     "cell_type": "heading",
     "level": 1,
     "metadata": {},
     "source": [
      "Reading and counting messages between players"
     ]
    },
    {
     "cell_type": "markdown",
     "metadata": {},
     "source": [
      "This filters out messages to master, some odd replies (to='unknown'??) and messages that come after the end of the game."
     ]
    },
    {
     "cell_type": "code",
     "collapsed": false,
     "input": [
      "total = 0\n",
      "total_turns = 0\n",
      "for f in glob(\"code/diplomacy/press_data/*\"):\n",
      "    # count presses & broadcasts\n",
      "    rdr = unicodecsv.reader(open(f))\n",
      "    rdr.next()  # discard header\n",
      "    total +=  sum(1 for fro, to, mile, _, _ in rdr\n",
      "                  if fro != \"M\" and to not in (\"M\", 'unknown')\n",
      "                  and not mile.endswith(\"X\"))\n",
      "    # count turns\n",
      "    rdr = unicodecsv.reader(open(f))\n",
      "    rdr.next()  # discard header\n",
      "    total_turns += len(set(mile for fro, to, mile, _, _ in rdr\n",
      "                           if fro != \"M\" and to not in (\"M\", \"unknown\")\n",
      "                           and not mile.endswith(\"X\")))"
     ],
     "language": "python",
     "metadata": {},
     "outputs": [],
     "prompt_number": 62
    },
    {
     "cell_type": "markdown",
     "metadata": {},
     "source": [
      "Similarily, count STRICTLY p2p messages (not messages sent to a group)."
     ]
    },
    {
     "cell_type": "code",
     "collapsed": false,
     "input": [
      "total_p2p = 0\n",
      "\n",
      "for f in glob(\"code/diplomacy/press_data/*\"):\n",
      "    # count presses & broadcasts\n",
      "    rdr = unicodecsv.reader(open(f))\n",
      "    rdr.next()  # discard header\n",
      "    total_p2p +=  sum(1 for fro, to, mile, _, _ in rdr\n",
      "                      if fro != \"M\" and to != \"M\"\n",
      "                      and len(to) == 1 and len(fro) == 1\n",
      "                      and not mile.endswith(\"X\"))"
     ],
     "language": "python",
     "metadata": {},
     "outputs": [],
     "prompt_number": 176
    },
    {
     "cell_type": "code",
     "collapsed": false,
     "input": [
      "print(\"{} messages across {} turns.\\n{} strict p2p presses\".format(total, total_turns, total_p2p))"
     ],
     "language": "python",
     "metadata": {},
     "outputs": [
      {
       "output_type": "stream",
       "stream": "stdout",
       "text": [
        "22201 messages across 1071 turns.\n",
        "17579 strict p2p presses\n"
       ]
      }
     ],
     "prompt_number": 179
    },
    {
     "cell_type": "markdown",
     "metadata": {},
     "source": [
      "Count messages that contain copy-pasted information from the judge. These are messages containing e.g., \"England: Army\""
     ]
    },
    {
     "cell_type": "code",
     "collapsed": false,
     "input": [
      "n_msg_with_moves = 0\n",
      "copy_pasted_move = [\"{}: {}\".format(country, unit_type)\n",
      "                    for country in [\"England\", \"Austria\", \"Germany\", \"France\", \"Russia\", \"Italy\", \"Turkey\"]\n",
      "                    for unit_type in [\"Army\", \"Fleet\"]]\n",
      "\n",
      "for f in glob(\"code/diplomacy/press_data/*\"):\n",
      "    # count presses & broadcasts\n",
      "    rdr = unicodecsv.reader(open(f))\n",
      "    rdr.next()  # discard header\n",
      "    order = [msg for fro, to, mile, _, msg in rdr\n",
      "             if fro != \"M\" and to != \"M\" and len(to) == 1\n",
      "             and not mile.endswith(\"X\")\n",
      "             and any(move in msg for move in copy_pasted_move)]\n",
      "    n_msg_with_moves += len(order)"
     ],
     "language": "python",
     "metadata": {},
     "outputs": [],
     "prompt_number": 109
    },
    {
     "cell_type": "code",
     "collapsed": false,
     "input": [
      "n_msg_with_moves"
     ],
     "language": "python",
     "metadata": {},
     "outputs": [
      {
       "metadata": {},
       "output_type": "pyout",
       "prompt_number": 110,
       "text": [
        "206"
       ]
      }
     ],
     "prompt_number": 110
    },
    {
     "cell_type": "code",
     "collapsed": false,
     "input": [
      "#  TODO: extract such patterns\n",
      "#  Do we have a list of all territory names?\n",
      "s1 = \"\"\"\n",
      "A VIE-GAL\n",
      "A BUD S A RUM\n",
      "A RUM S A VIE-GAL\n",
      "\"\"\"\n",
      "s2 = \"A Ser Support A Rum-Bul\"\n",
      "\n",
      "s3 = \"\"\"\n",
      "f Por s F Spa,\n",
      "f Spa (sc) s f LYO m WES,\n",
      "f LYO m WES,\n",
      "f WES m Naf,\n",
      "f TYS m Tun, &\n",
      "a Pie s f Mar.\n",
      "\"\"\""
     ],
     "language": "python",
     "metadata": {},
     "outputs": [],
     "prompt_number": 3
    },
    {
     "cell_type": "code",
     "collapsed": false,
     "input": [
      "\"{0:}{0:}\".format(\"a\")"
     ],
     "language": "python",
     "metadata": {},
     "outputs": [
      {
       "metadata": {},
       "output_type": "pyout",
       "prompt_number": 6,
       "text": [
        "'aa'"
       ]
      }
     ],
     "prompt_number": 6
    },
    {
     "cell_type": "code",
     "collapsed": false,
     "input": [
      "territory = \"[A-Z][A-Za-z]{2}\"  # refine using list\n",
      "re.findall(r\"[afAF] {0:}(?:-| m | [sS](?:upport)? [afAF] ){0:}(?:-{0:})?\".format(territory), s1 + s2 + s3)"
     ],
     "language": "python",
     "metadata": {},
     "outputs": [
      {
       "metadata": {},
       "output_type": "pyout",
       "prompt_number": 23,
       "text": [
        "['A VIE-GAL',\n",
        " 'A BUD S A RUM',\n",
        " 'A RUM S A VIE-GAL',\n",
        " 'A Ser Support A Rum-Bul',\n",
        " 'f Por s F Spa',\n",
        " 'f LYO m WES',\n",
        " 'f LYO m WES',\n",
        " 'f WES m Naf',\n",
        " 'f TYS m Tun',\n",
        " 'a Pie s f Mar']"
       ]
      }
     ],
     "prompt_number": 23
    },
    {
     "cell_type": "heading",
     "level": 1,
     "metadata": {},
     "source": [
      "Who discusses in the first round?"
     ]
    },
    {
     "cell_type": "code",
     "collapsed": false,
     "input": [
      "from os.path import basename"
     ],
     "language": "python",
     "metadata": {},
     "outputs": [],
     "prompt_number": 111
    },
    {
     "cell_type": "code",
     "collapsed": false,
     "input": [
      "interact_in_first_turn = {}\n",
      "for f in glob(\"code/diplomacy/press_data/*\"):\n",
      "    #keep only p2p from round 1\n",
      "    rdr = unicodecsv.reader(open(f))\n",
      "    rdr.next()  # discard header\n",
      "    p2p = [(fro, to) for fro, to, mile, _, _ in rdr\n",
      "           if fro != \"M\" and to != \"M\"\n",
      "           and len(fro) == 1 and len(to) == 1\n",
      "           and mile == \"S1901M\"]\n",
      "    if p2p:\n",
      "        interact_in_first_turn[basename(f)] = p2p"
     ],
     "language": "python",
     "metadata": {},
     "outputs": [],
     "prompt_number": 135
    },
    {
     "cell_type": "code",
     "collapsed": false,
     "input": [
      "%matplotlib inline\n",
      "import matplotlib.pyplot as plt\n",
      "import seaborn as sns"
     ],
     "language": "python",
     "metadata": {},
     "outputs": [],
     "prompt_number": 123
    },
    {
     "cell_type": "code",
     "collapsed": false,
     "input": [
      "plt.hist([len(k) for k in interact_in_first_turn.values()], normed=False, bins=9)\n",
      "plt.xlabel(\"N. p2p messages in S1901M\")\n",
      "plt.ylabel(\"N. games\")\n",
      "plt.title(\"Total p2p messages in first turn: {}\".format(sum(map(len, interact_in_first_turn.values()))))"
     ],
     "language": "python",
     "metadata": {},
     "outputs": [
      {
       "metadata": {},
       "output_type": "pyout",
       "prompt_number": 181,
       "text": [
        "<matplotlib.text.Text at 0x10ca01490>"
       ]
      },
      {
       "metadata": {},
       "output_type": "display_data",
       "png": "[encoded data removed]",
       "text": [
        "<matplotlib.figure.Figure at 0x10c998910>"
       ]
      }
     ],
     "prompt_number": 181
    },
    {
     "cell_type": "code",
     "collapsed": false,
     "input": [
      "country_initial = \"\".join(sorted(list(set(k for x in interact_in_first_turn.values() for y in x for k in y))))"
     ],
     "language": "python",
     "metadata": {},
     "outputs": [],
     "prompt_number": 150
    },
    {
     "cell_type": "code",
     "collapsed": false,
     "input": [
      "country_full = sorted([\"England\", \"Austria\", \"Germany\", \"France\", \"Russia\", \"Italy\", \"Turkey\"])"
     ],
     "language": "python",
     "metadata": {},
     "outputs": [],
     "prompt_number": 160
    },
    {
     "cell_type": "code",
     "collapsed": false,
     "input": [
      "country_idx = {letter: idx for idx, letter in enumerate(country_initial)}"
     ],
     "language": "python",
     "metadata": {},
     "outputs": [],
     "prompt_number": 153
    },
    {
     "cell_type": "code",
     "collapsed": false,
     "input": [
      "contacts = np.zeros((7, 7))"
     ],
     "language": "python",
     "metadata": {},
     "outputs": [],
     "prompt_number": 146
    },
    {
     "cell_type": "code",
     "collapsed": false,
     "input": [
      "for msgs in interact_in_first_turn.values():\n",
      "    for fro, to in msgs:\n",
      "        contacts[country_idx[fro], country_idx[to]] += 1"
     ],
     "language": "python",
     "metadata": {},
     "outputs": [],
     "prompt_number": 172
    },
    {
     "cell_type": "code",
     "collapsed": false,
     "input": [
      "plt.matshow(contacts, interpolation='nearest')\n",
      "plt.xticks(range(7), country_full)\n",
      "plt.yticks(range(7), country_full)\n",
      "plt.colorbar()\n",
      "plt.show()"
     ],
     "language": "python",
     "metadata": {},
     "outputs": [
      {
       "metadata": {},
       "output_type": "display_data",
       "png": "[encoded data removed]",
       "text": [
        "<matplotlib.figure.Figure at 0x10c0acd90>"
       ]
      }
     ],
     "prompt_number": 183
    },
    {
     "cell_type": "code",
     "collapsed": false,
     "input": [],
     "language": "python",
     "metadata": {},
     "outputs": []
    }
   ],
   "metadata": {}
  }
 ]
}